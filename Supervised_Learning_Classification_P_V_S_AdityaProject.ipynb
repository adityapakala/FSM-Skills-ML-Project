{
  "nbformat": 4,
  "nbformat_minor": 0,
  "metadata": {
    "colab": {
      "provenance": []
    },
    "kernelspec": {
      "name": "python3",
      "display_name": "Python 3"
    },
    "language_info": {
      "name": "python"
    }
  },
  "cells": [
    {
      "cell_type": "code",
      "source": [
        "import numpy as np\n",
        "import pandas as pd"
      ],
      "metadata": {
        "id": "SIIjy89PH022"
      },
      "execution_count": null,
      "outputs": []
    },
    {
      "cell_type": "markdown",
      "source": [
        "#Converting training set into DataFrame\n"
      ],
      "metadata": {
        "id": "hvdPpxnq8SRa"
      }
    },
    {
      "cell_type": "code",
      "source": [
        "#Converting training set into DataFrame\n",
        "df_train = pd.read_csv('train.csv')"
      ],
      "metadata": {
        "id": "HK_ZKTQ7iK6K"
      },
      "execution_count": null,
      "outputs": []
    },
    {
      "cell_type": "markdown",
      "source": [
        "#Converting test set into DataFrame\n"
      ],
      "metadata": {
        "id": "8h2aIanx8Pb7"
      }
    },
    {
      "cell_type": "code",
      "source": [
        "#Converting test set into DataFrame\n",
        "df_test = pd.read_csv('test.csv')"
      ],
      "metadata": {
        "id": "GO3z7U7P64LP"
      },
      "execution_count": null,
      "outputs": []
    },
    {
      "cell_type": "markdown",
      "source": [
        "#Dropping 'Name','Ticket' and 'Cabin' as they are random and not important\n"
      ],
      "metadata": {
        "id": "5fVqI9Xa8Qrb"
      }
    },
    {
      "cell_type": "code",
      "source": [
        "#Dropping 'Name','Ticket' and 'Cabin' as they are random and not important\n",
        "df_train = df_train.drop(['Name','Ticket','Cabin'],axis = 1)"
      ],
      "metadata": {
        "id": "xqsum4DNibUW"
      },
      "execution_count": null,
      "outputs": []
    },
    {
      "cell_type": "markdown",
      "source": [
        "# Similiar exercise for test set\n"
      ],
      "metadata": {
        "id": "LgkuszG68Tvt"
      }
    },
    {
      "cell_type": "code",
      "source": [
        "# Similiar exercise for test set\n",
        "df_test = df_test.drop(['Name','Ticket','Cabin'],axis = 1)"
      ],
      "metadata": {
        "id": "x0Sv_o0sjsEc"
      },
      "execution_count": null,
      "outputs": []
    },
    {
      "cell_type": "markdown",
      "source": [
        "#Since values in 'Sex' are Male and Female,we have Label Encoded them into 1 and 2.\n",
        "#Alternatively,to prevent ordinality,we could have also used One Hot Encoding\n",
        "#Similiar exercise has been done on the test set"
      ],
      "metadata": {
        "id": "SEgXOa7_8Uw1"
      }
    },
    {
      "cell_type": "code",
      "source": [
        "#Since values in 'Sex' are Male and Female,we have Label Encoded them into 1 and 2.\n",
        "#Alternatively,to prevent ordinality,we could have also used One Hot Encoding\n",
        "#Similiar exercise has been done on the test set\n",
        "np_gender = [i for i in df_train['Sex']]\n",
        "np_gender = np.array(np_gender)"
      ],
      "metadata": {
        "id": "UzSnDGDLleh_"
      },
      "execution_count": null,
      "outputs": []
    },
    {
      "cell_type": "code",
      "source": [
        "for i in range(len(np_gender)):\n",
        "  if(np_gender[i] == 'male'):\n",
        "    np_gender[i] = 1\n",
        "  else:\n",
        "    np_gender[i] = 2\n",
        "  "
      ],
      "metadata": {
        "id": "dg-LvS3fUPXo"
      },
      "execution_count": null,
      "outputs": []
    },
    {
      "cell_type": "code",
      "source": [
        "np_gender = np_gender.astype(int)"
      ],
      "metadata": {
        "id": "xRpKmUMtWbgJ"
      },
      "execution_count": null,
      "outputs": []
    },
    {
      "cell_type": "code",
      "source": [
        "df_train = df_train.drop(['Sex'],axis = 1)"
      ],
      "metadata": {
        "id": "gyV-fX8-W0U_"
      },
      "execution_count": null,
      "outputs": []
    },
    {
      "cell_type": "code",
      "source": [
        "df_gender = pd.DataFrame(np_gender,columns = ['Sex'])"
      ],
      "metadata": {
        "id": "FqBT32suXYf1"
      },
      "execution_count": null,
      "outputs": []
    },
    {
      "cell_type": "code",
      "source": [
        "df_train.insert(loc = 3,\n",
        "          column = 'Sex',\n",
        "          value = df_gender)"
      ],
      "metadata": {
        "id": "XlLEOjSCX-YN"
      },
      "execution_count": null,
      "outputs": []
    },
    {
      "cell_type": "code",
      "source": [
        "np_gender = [i for i in df_test['Sex']]\n",
        "np_gender = np.array(np_gender)\n",
        "for i in range(len(np_gender)):\n",
        "  if(np_gender[i] == 'male'):\n",
        "    np_gender[i] = 1\n",
        "  else:\n",
        "    np_gender[i] = 2\n",
        "np_gender = np_gender.astype(int)\n",
        "df_test = df_test.drop(['Sex'],axis = 1)\n",
        "df_gender = pd.DataFrame(np_gender,columns = ['Sex'])\n",
        "df_test.insert(loc = 2,\n",
        "          column = 'Sex',\n",
        "          value = df_gender)"
      ],
      "metadata": {
        "id": "k-S0QaxE7nZt"
      },
      "execution_count": null,
      "outputs": []
    },
    {
      "cell_type": "code",
      "source": [
        "df_train = df_train.fillna(df_train.median())"
      ],
      "metadata": {
        "colab": {
          "base_uri": "https://localhost:8080/"
        },
        "id": "VtNoqDGAa9kq",
        "outputId": "23eac945-fb40-426b-ef7f-18b011d1a70d"
      },
      "execution_count": null,
      "outputs": [
        {
          "output_type": "stream",
          "name": "stderr",
          "text": [
            "<ipython-input-351-130e3b84d68f>:1: FutureWarning: The default value of numeric_only in DataFrame.median is deprecated. In a future version, it will default to False. In addition, specifying 'numeric_only=None' is deprecated. Select only valid columns or specify the value of numeric_only to silence this warning.\n",
            "  df_train = df_train.fillna(df_train.median())\n"
          ]
        }
      ]
    },
    {
      "cell_type": "code",
      "source": [
        "df_test = df_test.fillna(df_test.median())"
      ],
      "metadata": {
        "colab": {
          "base_uri": "https://localhost:8080/"
        },
        "id": "UP5YIqo475Rn",
        "outputId": "2c20c687-0735-43d6-f5db-58072e81558f"
      },
      "execution_count": null,
      "outputs": [
        {
          "output_type": "stream",
          "name": "stderr",
          "text": [
            "<ipython-input-352-122e44e55e5d>:1: FutureWarning: The default value of numeric_only in DataFrame.median is deprecated. In a future version, it will default to False. In addition, specifying 'numeric_only=None' is deprecated. Select only valid columns or specify the value of numeric_only to silence this warning.\n",
            "  df_test = df_test.fillna(df_test.median())\n"
          ]
        }
      ]
    },
    {
      "cell_type": "markdown",
      "source": [
        "# Extracting the y variable from the training set\n"
      ],
      "metadata": {
        "id": "GyKSK_0N_3bT"
      }
    },
    {
      "cell_type": "code",
      "source": [
        "# Extracting the y variable from the training set\n",
        "y_train = df_train['Survived']"
      ],
      "metadata": {
        "id": "R3axP7aDrf64"
      },
      "execution_count": null,
      "outputs": []
    },
    {
      "cell_type": "markdown",
      "source": [
        "# Once y_train is extracted, we drop from the dataframe to create X_Train\n"
      ],
      "metadata": {
        "id": "POQFzq-j_4n0"
      }
    },
    {
      "cell_type": "code",
      "source": [
        "# Once y_train is extracted, we drop from the dataframe to create X_Train\n",
        "df_train = df_train.drop(['Survived'],axis = 1)"
      ],
      "metadata": {
        "id": "MKBvALkXr5cd"
      },
      "execution_count": null,
      "outputs": []
    },
    {
      "cell_type": "markdown",
      "source": [
        "#Similiar to the previous variable,we Label Encode the 'Embarked' variable as well\n",
        "# A similiar exercise is done on the test set"
      ],
      "metadata": {
        "id": "hgneX6ZE_5ix"
      }
    },
    {
      "cell_type": "code",
      "source": [
        "#Similiar to the previous variable,we Label Encode the 'Embarked' variable as well\n",
        "# A similiar exercise is done on the test set\n",
        "np_embarked = [i for i in df_train['Embarked']]\n",
        "np_embarked = np.array(np_embarked)\n",
        "for i in range(len(np_embarked)):\n",
        "  if(np_embarked[i] == 'C'):\n",
        "    np_embarked[i] = 1\n",
        "  elif(np_embarked[i] == 'S'):\n",
        "    np_embarked[i] = 2\n",
        "  else:\n",
        "    np_embarked[i] = 3"
      ],
      "metadata": {
        "id": "rhj74ZQJzxW2"
      },
      "execution_count": null,
      "outputs": []
    },
    {
      "cell_type": "code",
      "source": [
        "df_train = df_train.reset_index()"
      ],
      "metadata": {
        "id": "Nv8VUWWY4XGN"
      },
      "execution_count": null,
      "outputs": []
    },
    {
      "cell_type": "code",
      "source": [
        "np_embarked = np_embarked.astype(int)\n",
        "df_train = df_train.drop(['Embarked'],axis = 1)\n",
        "df_embarked = pd.DataFrame(np_embarked,columns = ['Embarked'])\n",
        "df_train.insert(loc = 8,\n",
        "          column = 'Embarked',\n",
        "          value = df_embarked)"
      ],
      "metadata": {
        "id": "EeHUJgV90oCg"
      },
      "execution_count": null,
      "outputs": []
    },
    {
      "cell_type": "code",
      "source": [
        "df_test = df_test.reset_index()"
      ],
      "metadata": {
        "id": "CVRmfF-X9XOx"
      },
      "execution_count": null,
      "outputs": []
    },
    {
      "cell_type": "code",
      "source": [
        "np_embarked = [i for i in df_test['Embarked']]\n",
        "np_embarked = np.array(np_embarked)\n",
        "for i in range(len(np_embarked)):\n",
        "  if(np_embarked[i] == 'C'):\n",
        "    np_embarked[i] = 1\n",
        "  elif(np_embarked[i] == 'S'):\n",
        "    np_embarked[i] = 2\n",
        "  else:\n",
        "    np_embarked[i] = 3\n",
        "np_embarked = np_embarked.astype(int)\n",
        "df_test = df_test.drop(['Embarked'],axis = 1)\n",
        "df_embarked = pd.DataFrame(np_embarked,columns = ['Embarked'])\n",
        "df_test.insert(loc = len(df_test.columns),\n",
        "          column = 'Embarked',\n",
        "          value = df_embarked)"
      ],
      "metadata": {
        "id": "95SqvvMe8cuL"
      },
      "execution_count": null,
      "outputs": []
    },
    {
      "cell_type": "code",
      "source": [
        "X_train = df_train.to_numpy()"
      ],
      "metadata": {
        "id": "EEFbITRkY3Ye"
      },
      "execution_count": null,
      "outputs": []
    },
    {
      "cell_type": "code",
      "source": [
        "X_test = df_test.to_numpy()"
      ],
      "metadata": {
        "id": "hhjYJwef9EU_"
      },
      "execution_count": null,
      "outputs": []
    },
    {
      "cell_type": "code",
      "source": [
        "# Extracting the actual values of y (y_test/y_actual)\n",
        "submission_data = pd.read_csv('gender_submission.csv')"
      ],
      "metadata": {
        "id": "sr8pEx4ZIZPH"
      },
      "execution_count": null,
      "outputs": []
    },
    {
      "cell_type": "code",
      "source": [
        "y_actual = submission_data['Survived']"
      ],
      "metadata": {
        "id": "7TCRtvsBIC5G"
      },
      "execution_count": null,
      "outputs": []
    },
    {
      "cell_type": "markdown",
      "source": [
        "# Naive Bayes own fn."
      ],
      "metadata": {
        "id": "CiUL3DHN5F1c"
      }
    },
    {
      "cell_type": "code",
      "source": [
        "import numpy as np\n",
        "\n",
        "class NaiveBayes:\n",
        "    def fit(self, X, y):\n",
        "        n_samples, n_features = X.shape\n",
        "        self._classes = np.unique(y)\n",
        "        n_classes = len(self._classes)\n",
        "\n",
        "        # calculate mean, var, and prior for each class\n",
        "        self._mean = np.zeros((n_classes, n_features), dtype=np.float64)\n",
        "        self._var = np.zeros((n_classes, n_features), dtype=np.float64)\n",
        "        self._priors = np.zeros(n_classes, dtype=np.float64)\n",
        "\n",
        "        for idx, c in enumerate(self._classes):\n",
        "            X_c = X[y == c]\n",
        "            self._mean[idx, :] = X_c.mean(axis=0)\n",
        "            self._var[idx, :] = X_c.var(axis=0)\n",
        "            self._priors[idx] = X_c.shape[0] / float(n_samples)\n",
        "\n",
        "    def predict(self, X):\n",
        "        y_pred = [self._predict(x) for x in X]\n",
        "        return np.array(y_pred)\n",
        "\n",
        "    def _predict(self, x):\n",
        "        posteriors = []\n",
        "\n",
        "        #calculate posterior probability for each class\n",
        "        for idx, c in enumerate(self._classes):\n",
        "            prior = np.log(self._priors[idx])\n",
        "            posterior = np.sum(np.log(self._pdf(idx, x)))\n",
        "            posterior = prior + posterior\n",
        "            posteriors.append(posterior)\n",
        "\n",
        "        #return class with highest posterior probability\n",
        "        return self._classes[np.argmax(posteriors)]\n",
        "\n",
        "    def _pdf(self, class_idx, x):\n",
        "        mean = self._mean[class_idx]\n",
        "        var = self._var[class_idx]\n",
        "        epsilon = 1e-8  #small constant to avoid zero variance\n",
        "\n",
        "        #Calculate probability density for each feature\n",
        "        pdfs = []\n",
        "        for i in range(len(x)):\n",
        "            feature_prob = self._gaussian_pdf(x[i], mean[i], var[i] + epsilon)\n",
        "            pdfs.append(feature_prob)\n",
        "\n",
        "        return np.array(pdfs)\n",
        "\n",
        "    def _gaussian_pdf(self, x, mean, var):\n",
        "        numerator = np.exp(-((x - mean) ** 2) / (2 * var))\n",
        "        denominator = np.sqrt(2 * np.pi * var)\n",
        "        return numerator / denominator\n",
        "\n",
        "\n",
        "# Load the data\n",
        "train_data = X_train\n",
        "test_data = pd.read_csv('test.csv')\n",
        "submission_data = pd.read_csv('gender_submission.csv')\n",
        "\n",
        "# Split the data into features and labels\n",
        "x_train = X_train\n",
        "y_train = y_train\n",
        "x_test = X_test\n",
        "y_test = submission_data.iloc[:, -1].values\n",
        "\n",
        "# Instantiate NaiveBayes classifier\n",
        "nb = NaiveBayes()\n",
        "\n",
        "# Fit the model\n",
        "nb.fit(x_train, y_train)"
      ],
      "metadata": {
        "id": "KeDItQ_C5I8Q"
      },
      "execution_count": null,
      "outputs": []
    },
    {
      "cell_type": "code",
      "source": [
        "# Make predictions\n",
        "nb_predictions = nb.predict(x_test)\n",
        "\n",
        "# Print the predictions\n",
        "print(\"Naive Bayes Predictions:\", nb_predictions)"
      ],
      "metadata": {
        "colab": {
          "base_uri": "https://localhost:8080/"
        },
        "id": "5IXAtAPv5W0l",
        "outputId": "f71e2d08-4781-409d-d988-55b46c3616ad"
      },
      "execution_count": null,
      "outputs": [
        {
          "output_type": "stream",
          "name": "stdout",
          "text": [
            "Naive Bayes Predictions: [0 1 0 0 1 0 1 0 1 0 0 0 1 0 1 1 0 0 1 1 1 0 1 1 1 0 1 0 0 0 0 0 1 1 1 0 1\n",
            " 1 0 0 0 0 0 1 1 0 0 0 1 1 0 0 0 1 0 0 0 0 0 1 0 0 0 1 1 1 1 0 0 1 1 0 1 0\n",
            " 1 1 0 1 0 1 0 1 0 0 0 0 1 1 1 0 1 0 1 0 0 0 1 0 1 0 1 0 0 0 1 0 0 0 0 0 0\n",
            " 1 1 1 1 0 0 1 1 1 1 0 1 0 0 1 0 0 0 0 0 0 0 0 0 0 0 0 1 0 0 1 1 0 0 0 0 0\n",
            " 0 0 1 0 0 1 0 0 1 1 0 1 1 0 1 0 0 1 1 0 1 1 0 0 0 0 0 1 1 1 1 1 0 1 1 0 1\n",
            " 0 1 0 0 0 0 0 0 0 0 0 1 1 0 1 1 0 1 1 0 0 1 0 1 0 0 0 0 1 0 0 1 1 1 0 1 0\n",
            " 1 0 1 1 0 1 0 0 0 1 0 0 1 0 1 0 1 1 1 1 1 0 0 0 1 0 1 1 1 0 1 0 0 0 0 0 1\n",
            " 0 0 0 1 1 0 0 0 0 1 0 1 0 1 1 0 1 0 0 0 0 1 0 1 1 1 0 0 1 0 0 0 1 0 1 0 0\n",
            " 1 0 0 0 0 0 0 0 1 1 1 0 1 1 0 0 0 1 1 1 1 0 0 0 0 0 0 0 1 0 1 1 0 0 1 0 0\n",
            " 1 0 0 0 0 0 0 0 0 0 1 0 1 0 1 0 1 1 0 0 0 1 0 1 0 0 1 0 1 1 0 1 0 0 1 1 0\n",
            " 0 1 0 0 1 1 0 0 0 0 0 0 1 1 0 1 0 0 0 0 1 1 0 0 0 1 0 1 0 0 1 0 1 0 0 0 0\n",
            " 1 1 1 1 1 1 0 1 0 0 0]\n"
          ]
        }
      ]
    },
    {
      "cell_type": "code",
      "source": [
        "y_actual = submission_data['Survived']"
      ],
      "metadata": {
        "id": "2tIbaWt261Kk"
      },
      "execution_count": null,
      "outputs": []
    },
    {
      "cell_type": "code",
      "source": [
        "from sklearn.metrics import confusion_matrix, accuracy_score\n",
        "cm = confusion_matrix(y_actual, nb_predictions)\n",
        "print(cm)\n",
        "accuracy_score(y_actual, nb_predictions)"
      ],
      "metadata": {
        "colab": {
          "base_uri": "https://localhost:8080/"
        },
        "id": "01NKdJ8L_eSL",
        "outputId": "72f58347-712c-4140-cdec-e2ec4eef0657"
      },
      "execution_count": null,
      "outputs": [
        {
          "output_type": "stream",
          "name": "stdout",
          "text": [
            "[[239  27]\n",
            " [  8 144]]\n"
          ]
        },
        {
          "output_type": "execute_result",
          "data": {
            "text/plain": [
              "0.916267942583732"
            ]
          },
          "metadata": {},
          "execution_count": 369
        }
      ]
    },
    {
      "cell_type": "markdown",
      "source": [
        "# K-Nearest Neighbors"
      ],
      "metadata": {
        "id": "7a_xNVmGked9"
      }
    },
    {
      "cell_type": "code",
      "source": [
        "class KNN:\n",
        "    def __init__(self, k=5):\n",
        "        self.k = k\n",
        "    \n",
        "    def fit(self, X, y):\n",
        "        self.X_train = X\n",
        "        self.y_train = y\n",
        "    \n",
        "    def euclidean_distance(self, x1, x2):\n",
        "        return np.sqrt(np.sum((x1 - x2)**2))\n",
        "    \n",
        "    def predict(self, X):\n",
        "        y_pred = [self._predict(x) for x in X]\n",
        "        return np.array(y_pred)\n",
        "    \n",
        "    def _predict(self, x):\n",
        "        # Compute distances between x and all examples in the training set\n",
        "        distances = [self.euclidean_distance(x, x_train) for x_train in self.X_train]\n",
        "        \n",
        "        # Sort by distance and return indices of the first k neighbors\n",
        "        k_indices = np.argsort(distances)[:self.k]\n",
        "        \n",
        "        # Extract the labels of the k nearest neighbor training samples\n",
        "        k_nearest_labels = [self.y_train[i] for i in k_indices]\n",
        "        \n",
        "        # Return the most common class label\n",
        "        most_common = np.argmax(np.bincount(k_nearest_labels))\n",
        "        return most_common"
      ],
      "metadata": {
        "id": "zScv25rjkgnq"
      },
      "execution_count": null,
      "outputs": []
    },
    {
      "cell_type": "code",
      "source": [
        "# Instantiate the KNN classifier with k=5\n",
        "knn = KNN(k=5)\n",
        "\n",
        "# Fit the model\n",
        "knn.fit(X_train, y_train)\n",
        "\n",
        "# Make predictions\n",
        "knn_predictions = knn.predict(X_test)\n",
        "\n",
        "# Print the predictions\n",
        "print(\"KNN Predictions:\", knn_predictions)"
      ],
      "metadata": {
        "colab": {
          "base_uri": "https://localhost:8080/"
        },
        "id": "wMTxdWn_lTZf",
        "outputId": "5b957925-40ec-44e7-c2ea-1e620b6131ed"
      },
      "execution_count": null,
      "outputs": [
        {
          "output_type": "stream",
          "name": "stdout",
          "text": [
            "KNN Predictions: [0 1 1 1 1 1 0 0 0 0 0 0 1 1 1 0 0 0 0 0 0 0 0 0 0 0 1 0 0 0 0 0 0 0 0 0 0\n",
            " 0 0 0 0 0 0 0 0 0 0 0 1 0 1 0 0 0 0 0 0 0 0 0 0 0 0 0 0 1 0 1 1 0 0 0 0 1\n",
            " 0 0 0 0 0 0 0 0 0 0 0 0 0 0 0 0 0 0 1 0 1 0 1 0 1 0 1 1 1 1 1 1 1 1 1 0 0\n",
            " 0 0 0 0 0 0 0 1 0 0 0 1 0 0 0 0 0 1 0 1 0 1 1 0 0 0 0 0 1 1 1 1 1 0 0 1 0\n",
            " 1 1 1 0 0 0 1 0 1 0 0 0 0 0 0 0 0 1 1 1 1 0 0 0 0 0 0 1 1 1 0 1 0 1 1 0 1\n",
            " 0 0 0 1 0 0 0 0 0 0 0 1 0 0 0 0 0 1 0 0 0 0 0 0 0 0 0 1 0 0 1 0 1 1 0 0 0\n",
            " 0 0 0 0 0 0 0 0 0 0 0 0 0 0 0 0 0 0 0 0 1 0 0 0 0 0 0 0 0 0 1 0 0 0 0 0 0\n",
            " 0 1 0 1 0 0 0 0 0 0 0 1 0 1 0 0 0 0 0 0 0 0 0 0 0 0 0 0 1 0 0 1 0 0 1 0 0\n",
            " 0 0 0 0 0 0 1 0 0 0 1 1 1 0 0 0 0 0 1 0 1 0 0 0 0 0 0 0 1 0 0 1 0 0 0 0 0\n",
            " 0 0 0 0 0 0 0 0 0 0 1 0 0 0 0 0 0 0 0 0 0 0 0 1 0 0 0 0 0 0 0 0 0 0 0 0 0\n",
            " 0 1 0 0 1 1 1 1 1 0 1 1 1 1 0 1 0 0 0 0 1 1 0 0 0 0 0 1 0 0 1 0 0 1 1 0 0\n",
            " 1 0 0 0 1 0 0 1 0 0 0]\n"
          ]
        }
      ]
    },
    {
      "cell_type": "code",
      "source": [
        "from sklearn.metrics import confusion_matrix, accuracy_score\n",
        "cm = confusion_matrix(y_actual, knn_predictions)\n",
        "print(cm)\n",
        "accuracy_score(y_actual, knn_predictions)"
      ],
      "metadata": {
        "colab": {
          "base_uri": "https://localhost:8080/"
        },
        "id": "eQiBL8fjlZoT",
        "outputId": "f4226e7f-54c9-4239-c97d-0b6462407aad"
      },
      "execution_count": null,
      "outputs": [
        {
          "output_type": "stream",
          "name": "stdout",
          "text": [
            "[[209  57]\n",
            " [107  45]]\n"
          ]
        },
        {
          "output_type": "execute_result",
          "data": {
            "text/plain": [
              "0.6076555023923444"
            ]
          },
          "metadata": {},
          "execution_count": 372
        }
      ]
    }
  ]
}