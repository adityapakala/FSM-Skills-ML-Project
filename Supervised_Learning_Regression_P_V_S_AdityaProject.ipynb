{
  "nbformat": 4,
  "nbformat_minor": 0,
  "metadata": {
    "colab": {
      "provenance": []
    },
    "kernelspec": {
      "name": "python3",
      "display_name": "Python 3"
    },
    "language_info": {
      "name": "python"
    }
  },
  "cells": [
    {
      "cell_type": "code",
      "source": [
        "import numpy as np\n",
        "import pandas as pd"
      ],
      "metadata": {
        "id": "4sy4nq29oXss"
      },
      "execution_count": null,
      "outputs": []
    },
    {
      "cell_type": "code",
      "execution_count": null,
      "metadata": {
        "id": "ZY1-QPRloGYm"
      },
      "outputs": [],
      "source": [
        "df = pd.read_csv('/content/Medical Price Dataset.csv')"
      ]
    },
    {
      "cell_type": "code",
      "source": [
        "df_sex = df['sex']"
      ],
      "metadata": {
        "id": "xzO3f5gQpjwZ"
      },
      "execution_count": null,
      "outputs": []
    },
    {
      "cell_type": "code",
      "source": [
        "np_sex = df_sex.to_numpy()\n",
        "for i in range(len(np_sex)):\n",
        "  if(np_sex[i] == 'female'):\n",
        "    np_sex[i] = 0\n",
        "  else:\n",
        "    np_sex[i] = 1"
      ],
      "metadata": {
        "id": "Y6tXLamrabK5"
      },
      "execution_count": null,
      "outputs": []
    },
    {
      "cell_type": "code",
      "source": [
        "df_smoker = df['smoker']\n",
        "np_smoker = df_smoker.to_numpy()\n",
        "for i in range(len(np_smoker)):\n",
        "  if(np_smoker[i] == 'yes'):\n",
        "    np_smoker[i] = 0\n",
        "  else:\n",
        "    np_smoker[i] = 1"
      ],
      "metadata": {
        "id": "0VC01cwQZ9aK"
      },
      "execution_count": null,
      "outputs": []
    },
    {
      "cell_type": "code",
      "source": [
        "df['region'].unique()"
      ],
      "metadata": {
        "colab": {
          "base_uri": "https://localhost:8080/"
        },
        "id": "CIKW8SktbHz3",
        "outputId": "a1afe8f8-ac13-4ee4-c400-0c248eae18ba"
      },
      "execution_count": null,
      "outputs": [
        {
          "output_type": "execute_result",
          "data": {
            "text/plain": [
              "array(['southwest', 'southeast', 'northwest', 'northeast'], dtype=object)"
            ]
          },
          "metadata": {},
          "execution_count": 33
        }
      ]
    },
    {
      "cell_type": "code",
      "source": [
        "df_region = df['region']\n",
        "np_region = df_region.to_numpy()\n",
        "for i in range(len(np_region)):\n",
        "  if(np_region[i] == 'southwest'):\n",
        "    np_region[i] = 1\n",
        "  elif(np_region[i] == 'southeast'):\n",
        "    np_region[i] = 2\n",
        "  elif(np_region[i] == 'northwest'):\n",
        "    np_region[i] = 3\n",
        "  else:\n",
        "    np_region[i] = 4"
      ],
      "metadata": {
        "id": "iUCPRjdabE8i"
      },
      "execution_count": null,
      "outputs": []
    },
    {
      "cell_type": "markdown",
      "source": [
        "#Add a column of ones to x_train for the intercept term\n",
        "#Calculate the coefficients using the normal equation\n",
        "#Add a column of ones to x_test for the intercept term\n",
        "#Calculate the predictions"
      ],
      "metadata": {
        "id": "ZCQXHoSnC3Yq"
      }
    },
    {
      "cell_type": "code",
      "source": [
        "import numpy as np\n",
        "import pandas as pd\n",
        "import matplotlib.pyplot as plt\n",
        "\n",
        "def linear_regression(x_train, y_train):\n",
        "    #Add a column of ones to x_train for the intercept term\n",
        "    x_train = np.column_stack((np.ones(len(x_train)), x_train))\n",
        "    \n",
        "    #Calculate the coefficients using the normal equation\n",
        "    theta = np.linalg.inv(x_train.T @ x_train) @ x_train.T @ y_train\n",
        "    print('Theta :',theta)\n",
        "    \n",
        "    return theta\n",
        "\n",
        "def predict(x_test, theta):\n",
        "    #Add a column of ones to x_test for the intercept term\n",
        "    x_test = np.column_stack((np.ones(len(x_test)), x_test))\n",
        "    \n",
        "    #Calculate the predictions\n",
        "    y_pred = x_test @ theta\n",
        "    \n",
        "    return y_pred"
      ],
      "metadata": {
        "id": "8pZF5cI8obuJ"
      },
      "execution_count": null,
      "outputs": []
    },
    {
      "cell_type": "markdown",
      "source": [
        "#Split the data into features (x) and output (y) using the original dataframe\n"
      ],
      "metadata": {
        "id": "mCEwTmGKDb_1"
      }
    },
    {
      "cell_type": "code",
      "source": [
        "#Split the data into features (x) and output (y) using the original dataframe\n",
        "X_train = df.iloc[:,:-1].values"
      ],
      "metadata": {
        "id": "x_UQe-37pHqA"
      },
      "execution_count": null,
      "outputs": []
    },
    {
      "cell_type": "code",
      "source": [
        "y_train = df.iloc[:,-1].values"
      ],
      "metadata": {
        "id": "UBHzDg56pMPO"
      },
      "execution_count": null,
      "outputs": []
    },
    {
      "cell_type": "code",
      "source": [
        "X_train = X_train.astype(float)"
      ],
      "metadata": {
        "id": "ljF-g3oMco_c"
      },
      "execution_count": null,
      "outputs": []
    },
    {
      "cell_type": "markdown",
      "source": [
        "#Train the linear regress. model\n"
      ],
      "metadata": {
        "id": "5rleDHq4DfS3"
      }
    },
    {
      "cell_type": "code",
      "source": [
        "#Train the linear regress. model\n",
        "theta = linear_regression(X_train, y_train)\n",
        "y_pred = predict(X_train, theta)"
      ],
      "metadata": {
        "colab": {
          "base_uri": "https://localhost:8080/"
        },
        "id": "WWJyRG6QpKAb",
        "outputId": "9f29e75e-0e4e-4494-bb31-9a947044ee7a"
      },
      "execution_count": null,
      "outputs": [
        {
          "output_type": "stream",
          "name": "stdout",
          "text": [
            "Theta : [ 10606.81356293    257.26385095   -130.50020423    332.4349716\n",
            "    479.50562408 -23819.11986014    348.38275641]\n"
          ]
        }
      ]
    },
    {
      "cell_type": "code",
      "source": [
        "y_pred"
      ],
      "metadata": {
        "colab": {
          "base_uri": "https://localhost:8080/"
        },
        "id": "loUE60AJeDDm",
        "outputId": "ff5cda8d-7361-4d34-b0d6-8b7309ce88c4"
      },
      "execution_count": null,
      "outputs": [
        {
          "output_type": "execute_result",
          "data": {
            "text/plain": [
              "array([25118.14519494,  3690.54294339,  6966.21777288, ...,\n",
              "        4365.43723607,  1115.43959633, 37357.32412073])"
            ]
          },
          "metadata": {},
          "execution_count": 66
        }
      ]
    }
  ]
}